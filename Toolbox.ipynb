{
 "cells": [
  {
   "cell_type": "markdown",
   "id": "4fd43673-7247-4c55-b7cc-96bfd6d4737b",
   "metadata": {},
   "source": [
    "## Teoría\n",
    "\n"
   ]
  },
  {
   "cell_type": "markdown",
   "id": "0ec27e53-991a-4905-9516-291fd1d21723",
   "metadata": {},
   "source": [
    "## Utilidades\n",
    "\n",
    "\n"
   ]
  },
  {
   "cell_type": "markdown",
   "id": "4aa9a30f-7952-4d79-83c7-ef7eae5233b6",
   "metadata": {},
   "source": [
    "## Cosas Curiosas\n",
    "\n",
    "\n",
    "\n"
   ]
  },
  {
   "cell_type": "markdown",
   "id": "2ff7849d-4ae7-4eef-9495-faf3faa798ea",
   "metadata": {},
   "source": [
    "## Preguntas pendientes\n",
    "\n",
    "\n",
    "\n",
    "\n"
   ]
  }
 ],
 "metadata": {
  "kernelspec": {
   "display_name": "Python 3 (ipykernel)",
   "language": "python",
   "name": "python3"
  },
  "language_info": {
   "codemirror_mode": {
    "name": "ipython",
    "version": 3
   },
   "file_extension": ".py",
   "mimetype": "text/x-python",
   "name": "python",
   "nbconvert_exporter": "python",
   "pygments_lexer": "ipython3",
   "version": "3.10.11"
  }
 },
 "nbformat": 4,
 "nbformat_minor": 5
}
