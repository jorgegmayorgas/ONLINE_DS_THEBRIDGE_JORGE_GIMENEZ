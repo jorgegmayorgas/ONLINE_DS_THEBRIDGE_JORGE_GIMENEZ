{
 "cells": [
  {
   "attachments": {},
   "cell_type": "markdown",
   "metadata": {},
   "source": [
    "# Simulacro Rampup"
   ]
  },
  {
   "cell_type": "code",
   "execution_count": 2,
   "metadata": {},
   "outputs": [],
   "source": [
    "# Escribe tu nombre y apellidos (apellido si solo tienes uno) en las variables:\n",
    "nombre = \"Jorge\"\n",
    "apellidos = \"Giménez Mayorgas\""
   ]
  },
  {
   "cell_type": "code",
   "execution_count": 3,
   "metadata": {},
   "outputs": [
    {
     "name": "stdout",
     "output_type": "stream",
     "text": [
      "Bienvenido Jorge Giménez Mayorgas. Mucha suerte!\n"
     ]
    }
   ],
   "source": [
    "# Solo ejecutar\n",
    "nombre_apellidos = nombre + ' ' + apellidos\n",
    "print(\"Bienvenido\", nombre_apellidos + '. Mucha suerte!')"
   ]
  },
  {
   "cell_type": "markdown",
   "metadata": {},
   "source": [
    "### Ejercicio 1: Calculadoras (3 puntos)\n"
   ]
  },
  {
   "cell_type": "markdown",
   "metadata": {},
   "source": [
    "Construye un programa que:\n",
    "\n",
    "- Salude al usuario por su nombre\n",
    "- Le pregunte si quiere sumar, restar, multiplicar o dividir\n",
    "- Pida que introduzca 2 números de manera sucesiva\n",
    "- Devuelva el resultado de manera formal con un mensaje apropiado \n",
    "\n",
    "**Ayuda**: No se puede dividir por 0"
   ]
  },
  {
   "cell_type": "code",
   "execution_count": null,
   "metadata": {},
   "outputs": [],
   "source": [
    "nombre_input=input(\"Introduzca su nombre\")\n",
    "operacion_input=input(\"Que operacion quiere hacer sumar, restar, multiplicar o dividir\")\n",
    "operacion_numero1=int(input(\"Introduzca número1:\"))\n",
    "operacion_numero2=int(input(\"Introduzca número2:\"))\n"
   ]
  },
  {
   "cell_type": "markdown",
   "metadata": {},
   "source": [
    "Construye una calculadora que sea como la anterior pero:\n",
    "\n",
    "- Acepte tantos valores de entrada como queramos\n",
    "- Devuelva mensajes con las cuentas que se van haciendo.\n",
    "- Permita salir con una palabra clave (exit, quit, ...)"
   ]
  },
  {
   "cell_type": "code",
   "execution_count": 15,
   "metadata": {},
   "outputs": [
    {
     "name": "stdin",
     "output_type": "stream",
     "text": [
      "Introduzca su nombre J\n",
      "Introduzca valores separados por comas 1,2,3\n",
      "Introduzca operacion + - * / % ^ +\n",
      "Operación? \n"
     ]
    },
    {
     "name": "stdout",
     "output_type": "stream",
     "text": [
      "\n",
      "Ha activado la CALCULADORA\n",
      "Bienvenido J\n",
      "Valor:1\n",
      "Operacion:+\n",
      "Valor2:2\n",
      "====================================================================================================\n",
      "SUBTOTAL: 1\n",
      "Valor:2\n",
      "Operacion:+\n",
      "Valor2:3\n",
      "====================================================================================================\n",
      "SUBTOTAL: 3\n",
      "Valor:3\n",
      "Operacion:+\n",
      "====================================================================================================\n",
      "SUBTOTAL: 6\n"
     ]
    }
   ],
   "source": [
    "#versión2\n",
    "def calculadora(valores=[],usuario=\"\",operacion=\"\",palabra=\"\"):\n",
    "    if palabra == \"exit\" or palabra == \"quit\":\n",
    "       print(\"CERRANDO CALCULADORA\")\n",
    "       print(f\"Hasta pronto {usuario}\")\n",
    "       return False\n",
    "    else:\n",
    "       print(\"\\nHa activado la CALCULADORA\")\n",
    "       print(f\"Bienvenido {usuario}\")\n",
    "       if operacion != \"\":\n",
    "          if operacion == \"+\" or operacion ==\"-\":\n",
    "             resultado = 0\n",
    "          else:\n",
    "             resultado = 1\n",
    "          \n",
    "          for indice,valor in enumerate(valores):\n",
    "              print(f\"Valor:{valor}\") #indice=0,valor=1\n",
    "              print(f\"Operacion:{operacion}\")#+\n",
    "              if indice + 1 < len(valores):#indice+1=1,[1,2,3]\n",
    "                 print(f\"Valor2:{valores[indice+1]}\")#2\n",
    "              if operacion == \"+\":\n",
    "                  resultado = resultado + int(valor) \n",
    "              elif operacion == \"-\":\n",
    "                  resultado = resultado - int(valor) \n",
    "              elif operacion == \"*\":\n",
    "                  resultado = resultado * int(valor) \n",
    "              elif operacion == \"/\":\n",
    "                  resultado = resultado / int(valor) \n",
    "              elif operacion == \"%\":\n",
    "                  resultado = resultado % int(valor) \n",
    "              elif operacion == \"^\":\n",
    "                  resultado = resultado ^  int(valor)     \n",
    "              print(\"=\" * 100)\n",
    "              print(f\"SUBTOTAL: {resultado}\")           \n",
    "       else:\n",
    "          print(f\"{nombre} no ha indicado operación\")\n",
    "            \n",
    "encendido = True\n",
    "while encendido == True:   \n",
    "    usuario_input = input(\"Introduzca su nombre\")\n",
    "    valores_input = input(\"Introduzca valores separados por comas\")\n",
    "    operacion_input = input(\"Introduzca operacion + - * / % ^\")\n",
    "    palabra_input=input(\"Operación?\")\n",
    "    lista_de_valores = valores_input.split(\",\")\n",
    "    #print(type(lista_de_valores))\n",
    "    encendido = calculadora(lista_de_valores,usuario = usuario_input,operacion = operacion_input,palabra = palabra_input)"
   ]
  },
  {
   "cell_type": "markdown",
   "metadata": {},
   "source": [
    "### Ejercicio 2 (4 puntos)\n",
    "\n",
    "Escribe un programa que trabaje con 3 listas:\n",
    "\n",
    "La lista ***grupo_musical*** contiene strings.\n",
    "\n",
    "La lista ***generos*** contiene strings.\n",
    "\n",
    "La lista ***anios*** puede contener un entero o tuplas.\n",
    "\n",
    "Ejemplo de datos:\n",
    "\n",
    ">\"ABBA\"\n",
    ">\n",
    ">\"pop\"\n",
    ">\n",
    ">(1972, 1982)\n",
    "\n",
    "Otro ejemplo:\n",
    "\n",
    ">\"Madonna\"\n",
    ">\n",
    ">\"pop\"\n",
    ">\n",
    ">1983\n",
    "\n",
    "Otro ejemplo:\n",
    "\n",
    ">\"Kölsch\"\n",
    ">\n",
    ">\"electronica\"\n",
    ">\n",
    ">1995\n",
    "\n",
    "Un grupo musical solo puede tener un género musical.\n",
    "Un grupo musical debe tener como mínimo un año de formación, que es un entero.\n",
    "Un grupo musical, si tuviese año de disolución, la información se guardaría en una tupla.\n",
    "\n",
    "Se pide implementar:\n",
    "\n",
    "a. Una función llamada *inserta* que acepte 4 parámetros (grupo, genero, comienzo, fin). El fin por defecto debe ser un objeto nulo. El grupo se inserta en la lista de grupos. El genero se inserta en la lista de géneros. El comienzo o comienzo y fin se inserta en la lista de años. La función no tiene valor retornado.\n",
    "\n",
    "b. Una función *busca_genero* con un parámetro de tipo string (genero) y devuelve una lista con todos los grupos de ese género.\n",
    "\n",
    "c. Una función *busca_grupos* con un parámetro booleano llamado *activos* con un valor por defecto verdadero. Cuando el valor es verdadero, devuelve solo los grupos activos en una lista. Cuando *activos* es falso, devuelve todos los grupos disueltos en una lista.\n",
    "\n",
    "d. Una función *busca_genero_indice* con un parámetro de tipo string (genero) que devuelve una lista con los índices donde se encuentra ese género.\n",
    "\n",
    "e. Una función *filtra_listas_genero* con un parámetro de tipo string (genero) que devuelve una tupla con las 3 listas filtradas y ***llame*** a busca_genero_indice\n",
    "\n",
    "f. Una función *anios_activos* que no tenga parámetros de entrada ni valor retornado que imprima línea a línea la información: grupo musical ---> años activos. Es decir: \n",
    "\n",
    ">ABBA ---> 10 años activos\n",
    ">\n",
    ">Madonna --> 40 años activos\n",
    ">\n",
    ">Kölsch --> 25 años activos\n",
    "\n",
    "\n",
    "Nota: si no te sale un apartado después de un tiempo prudencial, ¡pasa al siguiente!"
   ]
  },
  {
   "cell_type": "code",
   "execution_count": null,
   "metadata": {},
   "outputs": [],
   "source": []
  },
  {
   "attachments": {},
   "cell_type": "markdown",
   "metadata": {},
   "source": [
    "### Ejercicio 3 (3 puntos)\n",
    "\n",
    "#### Crear un programa que calcule la cuota de una hipoteca\n",
    "\n",
    "Las cuotas hipotecarias se calculan utilizando la fórmula del interés francés. \n",
    "\n",
    "La fórmula del interés francés es la siguiente:\n",
    "\\begin{align*}\n",
    "C=V \\frac{(1+i)^n i}{(1+i)^n -1}\n",
    "\\end{align*}\n",
    "\n",
    "\n",
    "    C = cuota a pagar (mensual)\n",
    "    V = volumen del préstamo hipotecario\n",
    "    i = tipo de interés del período (mensual)\n",
    "    n = número de cuotas (mensuales)\n",
    "\n"
   ]
  },
  {
   "attachments": {},
   "cell_type": "markdown",
   "metadata": {},
   "source": [
    "1. Crea un programa que solicite al usuario los datos de su hipoteca mediante input() los datos (volumen, interés **anual**, y plazo en **años**) y le devuelva la cuota **mensual** a pagar. No es necesario encapsularlo en funciones. (0.4)"
   ]
  },
  {
   "cell_type": "code",
   "execution_count": 27,
   "metadata": {},
   "outputs": [
    {
     "ename": "TypeError",
     "evalue": "unsupported operand type(s) for ^: 'float' and 'int'",
     "output_type": "error",
     "traceback": [
      "\u001b[1;31m---------------------------------------------------------------------------\u001b[0m",
      "\u001b[1;31mTypeError\u001b[0m                                 Traceback (most recent call last)",
      "Cell \u001b[1;32mIn[27], line 12\u001b[0m\n\u001b[0;32m     10\u001b[0m cuota_a_pagar_mensual2 \u001b[38;5;241m=\u001b[39m \u001b[38;5;28mfloat\u001b[39m(\u001b[38;5;241m0\u001b[39m)\n\u001b[0;32m     11\u001b[0m cuota_a_pagar_mensual1 \u001b[38;5;241m=\u001b[39m \u001b[38;5;241m1\u001b[39m \u001b[38;5;241m+\u001b[39m   tipo_de_interes_mensual \n\u001b[1;32m---> 12\u001b[0m cuota_a_pagar_mensual1 \u001b[38;5;241m=\u001b[39m\u001b[43mcuota_a_pagar_mensual1\u001b[49m\u001b[43m \u001b[49m\u001b[38;5;241;43m^\u001b[39;49m\u001b[43m \u001b[49m\u001b[43mnumero_de_cuotas_mensuales\u001b[49m \n\u001b[0;32m     13\u001b[0m cuota_a_pagar_mensual1 \u001b[38;5;241m=\u001b[39mcuota_a_pagar_mensual1 \u001b[38;5;241m*\u001b[39m tipo_de_interes_mensual\n\u001b[0;32m     14\u001b[0m cuota_a_pagar_mensual2 \u001b[38;5;241m=\u001b[39m ((\u001b[38;5;28mfloat\u001b[39m(\u001b[38;5;241m1\u001b[39m) \u001b[38;5;241m+\u001b[39m   tipo_de_interes_mensual) \u001b[38;5;241m^\u001b[39m numero_de_cuotas_mensuales) \u001b[38;5;241m-\u001b[39m \u001b[38;5;241m1\u001b[39m\n",
      "\u001b[1;31mTypeError\u001b[0m: unsupported operand type(s) for ^: 'float' and 'int'"
     ]
    }
   ],
   "source": [
    "cuota_a_pagar_mensual=float(0)\n",
    "volumen_del_prestamo_hipotecario=float(0)\n",
    "tipo_de_interes_mensual = float(0)\n",
    "numero_de_cuotas_mensuales = float(0)\n",
    "cuota_a_pagar_mensual=float(0)\n",
    "volumen_del_prestamo_hipotecario=float(50000)\n",
    "tipo_de_interes_mensual = float(4/12)\n",
    "numero_de_cuotas_mensuales = int(144)\n",
    "cuota_a_pagar_mensual1 = float(0)\n",
    "cuota_a_pagar_mensual2 = float(0)\n",
    "cuota_a_pagar_mensual1 = 1 +   tipo_de_interes_mensual \n",
    "cuota_a_pagar_mensual1 = cuota_a_pagar_mensual1 ^ numero_de_cuotas_mensuales \n",
    "cuota_a_pagar_mensual1 = cuota_a_pagar_mensual1 * tipo_de_interes_mensual\n",
    "cuota_a_pagar_mensual2 = float(1) +   tipo_de_interes_mensual) ^ numero_de_cuotas_mensuales) - 1\n",
    "cuota_a_pagar_mensual = volumen_del_prestamo_hipotecario * ( cuota_a_pagar_mensual1 / cuota_a_pagar_mensual2)\n",
    "\n"
   ]
  },
  {
   "cell_type": "code",
   "execution_count": null,
   "metadata": {},
   "outputs": [],
   "source": []
  },
  {
   "attachments": {},
   "cell_type": "markdown",
   "metadata": {},
   "source": [
    "2. Crea una función `calcular_hip` que realiza el cálculo y cuyos argumentos de entrada sean `volumen`, `interes_anual` y `años`, devolviendo la couta mensual(float). El argumento de `años` deberá de tener un valor por defecto de 30. Documenta la función con el estilo de Google.  (0.4)"
   ]
  },
  {
   "cell_type": "code",
   "execution_count": null,
   "metadata": {},
   "outputs": [],
   "source": []
  },
  {
   "attachments": {},
   "cell_type": "markdown",
   "metadata": {},
   "source": [
    "3. Calcula la cuota y guárdala en la variable `res_cuota` si la cantidad de la hipoteca son 350000 euros, el interés anual es del 5% y la quiere pagar en 20 años a partir de la función `calcular_hip`. (0.4)\n",
    "\n"
   ]
  },
  {
   "cell_type": "code",
   "execution_count": null,
   "metadata": {},
   "outputs": [],
   "source": []
  },
  {
   "attachments": {},
   "cell_type": "markdown",
   "metadata": {},
   "source": [
    "4. Crea una función `gasto_vivienda`, con dos argumentos de entrada `ingreso` y `lista_hip`. Esta lista tendrá los 3 valores de los argumentos de entrada de `calcular_hip`, llamando a esta función desde dentro de `gasto_vivienda`. Tiene que devolver el valor del porcentaje de gasto en la hipoteca respecto a los ingresos. (Entre 0 y 1, es decir 0.5 si es del 50%) Documenta la función. (0.4)"
   ]
  },
  {
   "cell_type": "code",
   "execution_count": null,
   "metadata": {},
   "outputs": [],
   "source": []
  },
  {
   "attachments": {},
   "cell_type": "markdown",
   "metadata": {},
   "source": [
    "5. Calcula el porcentaje de gasto en la hipoteca si el ingreso es de 1700 euros y guárdalo en la variable `res_porcentaje` a partir de la función `gasto_vivienda`. (0.4)\n"
   ]
  },
  {
   "cell_type": "code",
   "execution_count": null,
   "metadata": {},
   "outputs": [],
   "source": []
  }
 ],
 "metadata": {
  "kernelspec": {
   "display_name": "Python 3 (ipykernel)",
   "language": "python",
   "name": "python3"
  },
  "language_info": {
   "codemirror_mode": {
    "name": "ipython",
    "version": 3
   },
   "file_extension": ".py",
   "mimetype": "text/x-python",
   "name": "python",
   "nbconvert_exporter": "python",
   "pygments_lexer": "ipython3",
   "version": "3.10.11"
  },
  "vscode": {
   "interpreter": {
    "hash": "90139cb9a825bf3d63f6f6704e828dbd1ff7edbd4d0c6e906a71235d6efc74af"
   }
  }
 },
 "nbformat": 4,
 "nbformat_minor": 4
}
