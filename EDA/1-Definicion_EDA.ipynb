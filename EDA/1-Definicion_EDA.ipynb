{
 "cells": [
  {
   "cell_type": "markdown",
   "metadata": {},
   "source": [
    "![imagen](./img/ejercicios.png)"
   ]
  },
  {
   "cell_type": "markdown",
   "metadata": {},
   "source": [
    "# INFORMACIÓN DEL PROYECTO"
   ]
  },
  {
   "cell_type": "markdown",
   "metadata": {},
   "source": [
    "### TÍTULO"
   ]
  },
  {
   "cell_type": "code",
   "execution_count": null,
   "metadata": {},
   "outputs": [],
   "source": [
    "#Escribe el título del proyecto en Markdown\n",
    "titulo = \"\""
   ]
  },
  {
   "cell_type": "markdown",
   "metadata": {},
   "source": [
    "### TEMA"
   ]
  },
  {
   "cell_type": "code",
   "execution_count": null,
   "metadata": {},
   "outputs": [],
   "source": [
    "# Describe brevemente el tema del proyecto en Markdown\n",
    "tema = \"\""
   ]
  },
  {
   "cell_type": "markdown",
   "metadata": {},
   "source": [
    "### HIPÓTESIS"
   ]
  },
  {
   "cell_type": "markdown",
   "metadata": {},
   "source": [
    "Define aquí lo que será la hipótesis de tu proyecto.\n",
    "Deberás tener más de una, pero tu proyecto lo harás teniendo una principal hipótesis."
   ]
  },
  {
   "cell_type": "code",
   "execution_count": 1,
   "metadata": {},
   "outputs": [],
   "source": [
    "# Escribe tu hipótesis principal en Markdown\n",
    "hipotesis_1 = \"Qué grupo o artista es el que más éxitos ha tenido desde 1957\""
   ]
  },
  {
   "cell_type": "code",
   "execution_count": 2,
   "metadata": {},
   "outputs": [],
   "source": [
    "# Escribe más hipótesis si las hubiera en Markdown\n",
    "hipotesis_2 = \"Que grupo o artista llevan más años en las listas más tiempo\"\n",
    "hipotesis_3 = \"Que grupo o artista llevan más exitos en los ultimos 10 años\"\n",
    "hipotesis_4 = \"Qué grupo o artista han sido 1 hit wonder\"\n",
    "# hipotesis_5 = \"\"\n",
    "# ...\n"
   ]
  },
  {
   "cell_type": "markdown",
   "metadata": {},
   "source": [
    "## OBTENCIÓN DE LOS DATOS"
   ]
  },
  {
   "cell_type": "markdown",
   "metadata": {},
   "source": [
    "### DATASETS Y FUENTES ALTERNATIVAS DE DATOS"
   ]
  },
  {
   "cell_type": "markdown",
   "metadata": {},
   "source": [
    "Incluye aquí una vista del dataset o datasets de los que partirás para poder evaluar tu hipótesis. <br>\n",
    "También incluye el origen de estos datos y su fuente."
   ]
  },
  {
   "cell_type": "code",
   "execution_count": 3,
   "metadata": {},
   "outputs": [],
   "source": [
    "import pandas as pd\n",
    "# guarda en variables los datasets y su fuente\n",
    "df = pd.read_csv(\"./Billboard_Hot_100/data/hot_100.csv\")\n",
    "fuente_1 = \"\"\n",
    "# df_2 = pd.DataFrame()\n",
    "# fuente_2 = \"\"\n",
    "# df_3 = pd.DataFrame()\n",
    "# fuente_3 = \"\"\n",
    "# df_4 = pd.DataFrame()\n",
    "# fuente_4 = \"\"\n",
    "# df_5 = pd.DataFrame()\n",
    "# fuente_5 = \"\"\n",
    "# ..."
   ]
  },
  {
   "cell_type": "markdown",
   "metadata": {},
   "source": [
    "Muestra mediante un head() los principales datasets con los que vas a trabajar"
   ]
  },
  {
   "cell_type": "code",
   "execution_count": 4,
   "metadata": {},
   "outputs": [
    {
     "data": {
      "text/html": [
       "<div>\n",
       "<style scoped>\n",
       "    .dataframe tbody tr th:only-of-type {\n",
       "        vertical-align: middle;\n",
       "    }\n",
       "\n",
       "    .dataframe tbody tr th {\n",
       "        vertical-align: top;\n",
       "    }\n",
       "\n",
       "    .dataframe thead th {\n",
       "        text-align: right;\n",
       "    }\n",
       "</style>\n",
       "<table border=\"1\" class=\"dataframe\">\n",
       "  <thead>\n",
       "    <tr style=\"text-align: right;\">\n",
       "      <th></th>\n",
       "      <th>chart_position</th>\n",
       "      <th>chart_date</th>\n",
       "      <th>song</th>\n",
       "      <th>performer</th>\n",
       "      <th>song_id</th>\n",
       "      <th>instance</th>\n",
       "      <th>time_on_chart</th>\n",
       "      <th>consecutive_weeks</th>\n",
       "      <th>previous_week</th>\n",
       "      <th>peak_position</th>\n",
       "      <th>worst_position</th>\n",
       "      <th>chart_debut</th>\n",
       "      <th>chart_url</th>\n",
       "    </tr>\n",
       "  </thead>\n",
       "  <tbody>\n",
       "    <tr>\n",
       "      <th>0</th>\n",
       "      <td>84</td>\n",
       "      <td>1990-05-05</td>\n",
       "      <td>\"B\" Girls</td>\n",
       "      <td>Young And Restless</td>\n",
       "      <td>\"B\" GirlsYoung And Restless</td>\n",
       "      <td>1.0</td>\n",
       "      <td>1</td>\n",
       "      <td>NaN</td>\n",
       "      <td>NaN</td>\n",
       "      <td>84</td>\n",
       "      <td>84</td>\n",
       "      <td>1990-05-05</td>\n",
       "      <td>https://www.billboard.com/charts/hot-100/1990-...</td>\n",
       "    </tr>\n",
       "    <tr>\n",
       "      <th>1</th>\n",
       "      <td>78</td>\n",
       "      <td>1990-05-12</td>\n",
       "      <td>\"B\" Girls</td>\n",
       "      <td>Young And Restless</td>\n",
       "      <td>\"B\" GirlsYoung And Restless</td>\n",
       "      <td>1.0</td>\n",
       "      <td>2</td>\n",
       "      <td>1.0</td>\n",
       "      <td>84.0</td>\n",
       "      <td>78</td>\n",
       "      <td>84</td>\n",
       "      <td>1990-05-05</td>\n",
       "      <td>https://www.billboard.com/charts/hot-100/1990-...</td>\n",
       "    </tr>\n",
       "    <tr>\n",
       "      <th>2</th>\n",
       "      <td>68</td>\n",
       "      <td>1990-05-19</td>\n",
       "      <td>\"B\" Girls</td>\n",
       "      <td>Young And Restless</td>\n",
       "      <td>\"B\" GirlsYoung And Restless</td>\n",
       "      <td>1.0</td>\n",
       "      <td>3</td>\n",
       "      <td>2.0</td>\n",
       "      <td>78.0</td>\n",
       "      <td>68</td>\n",
       "      <td>84</td>\n",
       "      <td>1990-05-05</td>\n",
       "      <td>https://www.billboard.com/charts/hot-100/1990-...</td>\n",
       "    </tr>\n",
       "    <tr>\n",
       "      <th>3</th>\n",
       "      <td>60</td>\n",
       "      <td>1990-05-26</td>\n",
       "      <td>\"B\" Girls</td>\n",
       "      <td>Young And Restless</td>\n",
       "      <td>\"B\" GirlsYoung And Restless</td>\n",
       "      <td>1.0</td>\n",
       "      <td>4</td>\n",
       "      <td>3.0</td>\n",
       "      <td>68.0</td>\n",
       "      <td>60</td>\n",
       "      <td>84</td>\n",
       "      <td>1990-05-05</td>\n",
       "      <td>https://www.billboard.com/charts/hot-100/1990-...</td>\n",
       "    </tr>\n",
       "    <tr>\n",
       "      <th>4</th>\n",
       "      <td>58</td>\n",
       "      <td>1990-06-02</td>\n",
       "      <td>\"B\" Girls</td>\n",
       "      <td>Young And Restless</td>\n",
       "      <td>\"B\" GirlsYoung And Restless</td>\n",
       "      <td>1.0</td>\n",
       "      <td>5</td>\n",
       "      <td>4.0</td>\n",
       "      <td>60.0</td>\n",
       "      <td>58</td>\n",
       "      <td>84</td>\n",
       "      <td>1990-05-05</td>\n",
       "      <td>https://www.billboard.com/charts/hot-100/1990-...</td>\n",
       "    </tr>\n",
       "  </tbody>\n",
       "</table>\n",
       "</div>"
      ],
      "text/plain": [
       "   chart_position  chart_date       song           performer  \\\n",
       "0              84  1990-05-05  \"B\" Girls  Young And Restless   \n",
       "1              78  1990-05-12  \"B\" Girls  Young And Restless   \n",
       "2              68  1990-05-19  \"B\" Girls  Young And Restless   \n",
       "3              60  1990-05-26  \"B\" Girls  Young And Restless   \n",
       "4              58  1990-06-02  \"B\" Girls  Young And Restless   \n",
       "\n",
       "                       song_id  instance  time_on_chart  consecutive_weeks  \\\n",
       "0  \"B\" GirlsYoung And Restless       1.0              1                NaN   \n",
       "1  \"B\" GirlsYoung And Restless       1.0              2                1.0   \n",
       "2  \"B\" GirlsYoung And Restless       1.0              3                2.0   \n",
       "3  \"B\" GirlsYoung And Restless       1.0              4                3.0   \n",
       "4  \"B\" GirlsYoung And Restless       1.0              5                4.0   \n",
       "\n",
       "   previous_week  peak_position  worst_position chart_debut  \\\n",
       "0            NaN             84              84  1990-05-05   \n",
       "1           84.0             78              84  1990-05-05   \n",
       "2           78.0             68              84  1990-05-05   \n",
       "3           68.0             60              84  1990-05-05   \n",
       "4           60.0             58              84  1990-05-05   \n",
       "\n",
       "                                           chart_url  \n",
       "0  https://www.billboard.com/charts/hot-100/1990-...  \n",
       "1  https://www.billboard.com/charts/hot-100/1990-...  \n",
       "2  https://www.billboard.com/charts/hot-100/1990-...  \n",
       "3  https://www.billboard.com/charts/hot-100/1990-...  \n",
       "4  https://www.billboard.com/charts/hot-100/1990-...  "
      ]
     },
     "execution_count": 4,
     "metadata": {},
     "output_type": "execute_result"
    }
   ],
   "source": [
    "# Primer dataset\n",
    "df.head()"
   ]
  },
  {
   "cell_type": "code",
   "execution_count": null,
   "metadata": {},
   "outputs": [],
   "source": [
    "# Siguiente dataset...\n",
    "# df_2.head()"
   ]
  },
  {
   "cell_type": "code",
   "execution_count": 5,
   "metadata": {},
   "outputs": [],
   "source": [
    "df[\"chart_date_as_date\"] = pd.to_datetime(df[\"chart_date\"])\n",
    "df[\"chart_debut_as_date\"] = pd.to_datetime(df[\"chart_debut\"])\n",
    "df[\"time_on_chart_as_date\"] = df[\"chart_date_as_date\"] - df[\"chart_debut_as_date\"]"
   ]
  },
  {
   "cell_type": "code",
   "execution_count": 8,
   "metadata": {},
   "outputs": [],
   "source": [
    "\n",
    "df.chart_url = '\"' + df.chart_url + '\"'"
   ]
  },
  {
   "cell_type": "code",
   "execution_count": 9,
   "metadata": {},
   "outputs": [
    {
     "data": {
      "text/plain": [
       "0         \"https://www.billboard.com/charts/hot-100/1990...\n",
       "1         \"https://www.billboard.com/charts/hot-100/1990...\n",
       "2         \"https://www.billboard.com/charts/hot-100/1990...\n",
       "3         \"https://www.billboard.com/charts/hot-100/1990...\n",
       "4         \"https://www.billboard.com/charts/hot-100/1990...\n",
       "                                ...                        \n",
       "338390    \"https://www.billboard.com/charts/hot-100/2001...\n",
       "338391    \"https://www.billboard.com/charts/hot-100/1958...\n",
       "338392    \"https://www.billboard.com/charts/hot-100/1958...\n",
       "338393    \"https://www.billboard.com/charts/hot-100/1958...\n",
       "338394    \"https://www.billboard.com/charts/hot-100/1959...\n",
       "Name: chart_url, Length: 338395, dtype: object"
      ]
     },
     "execution_count": 9,
     "metadata": {},
     "output_type": "execute_result"
    }
   ],
   "source": [
    "df.chart_url"
   ]
  }
 ],
 "metadata": {
  "kernelspec": {
   "display_name": "Python 3.7.4 64-bit",
   "language": "python",
   "name": "python3"
  },
  "language_info": {
   "codemirror_mode": {
    "name": "ipython",
    "version": 3
   },
   "file_extension": ".py",
   "mimetype": "text/x-python",
   "name": "python",
   "nbconvert_exporter": "python",
   "pygments_lexer": "ipython3",
   "version": "3.10.11"
  },
  "orig_nbformat": 4,
  "vscode": {
   "interpreter": {
    "hash": "90139cb9a825bf3d63f6f6704e828dbd1ff7edbd4d0c6e906a71235d6efc74af"
   }
  }
 },
 "nbformat": 4,
 "nbformat_minor": 2
}
