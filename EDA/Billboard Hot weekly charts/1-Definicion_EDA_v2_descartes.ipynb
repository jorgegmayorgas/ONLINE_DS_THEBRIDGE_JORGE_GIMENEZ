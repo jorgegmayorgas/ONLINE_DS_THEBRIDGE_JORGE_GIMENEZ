{
 "cells": [
  {
   "cell_type": "code",
   "execution_count": null,
   "metadata": {},
   "outputs": [],
   "source": [
    "value_to_find='mellow_gold'\n",
    "condition_1= df_Hot_Stuff_with_genres['WeekID_As_Date'] < pd.to_datetime('1968-01-01')\n",
    "condition_2= df_Hot_Stuff_with_genres['Week Position'] == 1\n",
    "condition_3= df_Hot_Stuff_with_genres[df_Hot_Stuff_with_genres['spotify_genre_list'].apply(lambda x: value_to_find in x)]            \n"
   ]
  },
  {
   "cell_type": "code",
   "execution_count": null,
   "metadata": {},
   "outputs": [],
   "source": [
    "\n",
    "# Sample DataFrame with a column containing lists\n",
    "data = {\n",
    "    'List_Column': [[1, 'unknown', 3], [4, 5, 6], [7, 8, 9], [1, 4, 7]]\n",
    "}\n",
    "\n",
    "df = pd.DataFrame(data)\n",
    "\n",
    "# Value to filter\n",
    "desired_value = 'unknown'\n",
    "\n",
    "# Filter the DataFrame based on the list column\n",
    "filtered_df = df[df['List_Column'].apply(lambda x: desired_value in x)]\n",
    "\n",
    "print(filtered_df)"
   ]
  },
  {
   "cell_type": "code",
   "execution_count": null,
   "metadata": {},
   "outputs": [
    {
     "name": "stdout",
     "output_type": "stream",
     "text": [
      "           A          B          C\n",
      "0  example 1       test        dog\n",
      "1      apple  example 2       bird\n",
      "2     banana        cat  example 3\n"
     ]
    }
   ],
   "source": [
    "import pandas as pd\n",
    "\n",
    "# Sample DataFrame\n",
    "data = {\n",
    "    'A': ['example 1', 'apple', 'banana'],\n",
    "    'B': ['test', 'example 2', 'cat'],\n",
    "    'C': ['dog', 'bird', 'example 3']\n",
    "}\n",
    "\n",
    "df = pd.DataFrame(data)\n",
    "\n",
    "# Filter rows containing 'example' in any column\n",
    "filtered_df = df[df.map(lambda x: 'example' in str(x)).any(axis=1)]\n",
    "\n",
    "# Display the filtered DataFrame\n",
    "print(filtered_df)"
   ]
  },
  {
   "cell_type": "code",
   "execution_count": null,
   "metadata": {},
   "outputs": [],
   "source": [
    "#versión 3 sin Warnings de copy\n",
    "def actualiza_lista_multiples_valores(fila):\n",
    "    lista_funcion=[]\n",
    "    for elemento in fila['spotify_genre_list']:\n",
    "        print(f\"elemento:{elemento} longitud:{len(elemento)} y tipo:{type(elemento)}\")\n",
    "        elemento = elemento.replace(\" \",\"_\")\n",
    "        lista_temporal.append(elemento)\n",
    "        #return None\n",
    "        return lista_funcion\n",
    "\n",
    "#reemplazo los espacios en los nombres por un guión bajo para poder referenciarlos correctamente cuando sea el nombre de una columna\n",
    "for indice, fila in df_Hot_100_Audio_Features.iterrows():\n",
    "    #print(f\"indice:{indice} con valor:{valor}\")\n",
    "    #print(f\"fila:{fila.spotify_genre_list}\\tindex:{indice}\")\n",
    "    if len(fila['spotify_genre_list'])>1:\n",
    "        df_Hot_100_Audio_Features.spotify_genre_list.at[indice] = actualiza_lista_multiples_valores(fila)\n",
    "    "
   ]
  },
  {
   "cell_type": "code",
   "execution_count": null,
   "metadata": {},
   "outputs": [],
   "source": [
    "for indice,fila in df_Hot_100_Audio_Features_genres.iterrows():\n",
    "    if len(fila.spotify_genre_list)==1:\n",
    "        print(f\"fila.SongID:{fila.SongID} fila.spotify_genre_list[0]:{fila.spotify_genre_list[0]}\")\n",
    "        if fila.spotify_genre_list[0] in df_Hot_100_Audio_Features_genres:\n",
    "                df_Hot_100_Audio_Features_genres.loc[df_Hot_100_Audio_Features_genres['SongID']==fila.SongID,elemento]=True\n",
    "        else:\n",
    "                df_Hot_100_Audio_Features_genres[fila.spotify_genre_list[0]]=False\n",
    "                df_Hot_100_Audio_Features_genres[fila.spotify_genre_list[0]].at[indice]=True\n",
    "        df_Hot_100_Audio_Features_genres[fila.spotify_genre_list[0]]=False\n",
    "        #print(f\"creando columna df_Hot_100_Audio_Features_genres.at[{indice}]:{df_Hot_100_Audio_Features_genres.at[indice]}\")\n",
    "        df_Hot_100_Audio_Features_genres[fila.spotify_genre_list[0]].at[indice]=True\n",
    "        #print(f\"actualizando columna df_Hot_100_Audio_Features_genres.at[indice]:df_Hot_100_Audio_Features_genres[indice]\")\n",
    "    else:\n",
    "        print(f\"fila.SongID:{fila.SongID} fila.spotify_genre_list:{fila.spotify_genre_list}\")\n",
    "        for elemento in fila.spotify_genre_list:\n",
    "            if elemento in df_Hot_100_Audio_Features_genres:\n",
    "                print(f\"\\telemento:{elemento} fila.SongID:{fila.SongID} fila.spotify_genre_list:{fila.spotify_genre_list}\")\n",
    "                df_Hot_100_Audio_Features_genres.loc[df_Hot_100_Audio_Features_genres['SongID']==fila.SongID,elemento]=True\n",
    "            else:\n",
    "                df_Hot_100_Audio_Features_genres[elemento]=False\n",
    "                df_Hot_100_Audio_Features_genres.loc[df_Hot_100_Audio_Features_genres['SongID']==fila.SongID,elemento]=True\n",
    "        print(f\"\\t fila.SongID:{fila.SongID} df_Hot_100_Audio_Features_genres.iloc[{indice}]:{df_Hot_100_Audio_Features_genres.iloc[indice]}\")\n"
   ]
  },
  {
   "cell_type": "code",
   "execution_count": null,
   "metadata": {},
   "outputs": [],
   "source": [
    "#estoy aquí\n",
    "#df_Hot_100_Audio_Features_EDA=pd.DataFrame(columns=super_list_genres)#v1 volcaba todo\n",
    "#indices_lista.append(\"Song_ID\")\n",
    "df_Hot_100_Audio_Features_EDA=pd.DataFrame(columns=lista_temporal_2)#v3 vuelco solo los que tienen valor_de_corte entradas se quedan 50 columnas\n",
    "#df_Hot_100_Audio_Features_EDA[\"Song_ID\"] = None\n",
    "#df_Hot_100_Audio_Features_EDA=df_Hot_100_Audio_Features_EDA.T\n",
    "#df_test=df_Hot_100_Audio_Features[df_Hot_100_Audio_Features[\"spotify_genre_list\"] in indices_lista].copy()\n",
    "\n",
    "data=super_dict\n",
    "longitud=len(data)\n",
    "print(f\"longitud:{longitud}\")\n",
    "for indice,fila in df_Hot_100_Audio_Features.iterrows():\n",
    "    print(f\"cancion:{fila.SongID}\")\n",
    "    if (len(fila.spotify_genre_list)==1):\n",
    "        print(f\"entro el valor es {fila.spotify_genre_list}\")\n",
    "        #print(f\"elementos en indices_lista:{indices_lista}\")\n",
    "        if fila.spotify_genre_list[0] in indices_lista:\n",
    "            print(\"Entro al segundo if\")\n",
    "            data[fila.spotify_genre_list[0]]=True\n",
    "            data[\"SongID\"]=fila.SongID\n",
    "            print(f\"el valor de data: {data}\")\n",
    "            #df_Hot_100_Audio_Features_EDA.append(data)\n",
    "            #filtered_df = df_Hot_100_Audio_Features_EDA[df_Hot_100_Audio_Features_EDA[\"Song_ID\"]  == fila.Song_ID]\n",
    "            # Reset the index of the filtered DataFrame\n",
    "            #filtered_df = filtered_df.reset_index(drop=True)\n",
    "            # Access the index of the filtered DataFrame\n",
    "            #indices = filtered_df.index\n",
    "            #print(f\"indices:{indices}\")\n",
    "\n",
    "    else:\n",
    "            data[len(data)]=super_dict\n",
    "            data[len(data)][\"SongID\"]=fila.SongID\n",
    "            for indice in range(len(fila.spotify_genre_list)):\n",
    "                if fila.spotify_genre_list[indice] in indices_lista:\n",
    "                        data[len(data)]=super_dict\n",
    "                        data[len(data)][fila.spotify_genre_list[indice]]=True\n",
    "df_Hot_100_Audio_Features_EDA = data               \n",
    "    \n",
    "            \n",
    "                \n",
    "    \n",
    "#df_Hot_100_Audio_Features_EDA.fillna(False,inplace=True)\n",
    "#df_Hot_100_Audio_Features_EDA\n"
   ]
  },
  {
   "cell_type": "code",
   "execution_count": null,
   "metadata": {},
   "outputs": [],
   "source": [
    "import pandas as pd\n",
    "\n",
    "# Creating an array of dictionaries\n",
    "array_of_dicts = [\n",
    "    {'Name': 'Alice', 'Age': 25, 'City': 'New York'},\n",
    "    {'Name': 'Bob', 'Age': 30, 'City': 'San Francisco'},\n",
    "    {'Name': 'Charlie', 'Age': 35, 'City': 'Los Angeles'}\n",
    "]\n",
    "for indice,valores in enumerate(array_of_dicts):\n",
    "    print(indice,valores)"
   ]
  },
  {
   "cell_type": "code",
   "execution_count": null,
   "metadata": {},
   "outputs": [],
   "source": [
    "# Creating a DataFrame\n",
    "data = {\n",
    "    'Name': ['Alice', 'Bob', 'Charlie'],\n",
    "    'Age': [25, 30, 35],\n",
    "    'City': ['New York', 'San Francisco', 'Los Angeles']\n",
    "}\n",
    "\n",
    "df = pd.DataFrame(data)\n",
    "\n",
    "# Creating a subset of the DataFrame using boolean indexing\n",
    "subset = df[df['Age'] > 25]\n",
    "\n",
    "# Trying to modify the subset by adding a new column\n",
    "subset['New_Column'] = [1, 2]\n",
    "\n",
    "# Potential warning: A value is trying to be set on a copy of a slice from a DataFrame\n",
    "\n",
    "df.loc[df['Age'] > 25, 'New_Column'] = [1, 2]\n",
    "df"
   ]
  },
  {
   "cell_type": "code",
   "execution_count": null,
   "metadata": {},
   "outputs": [],
   "source": [
    "df[\"chart_date_as_date\"] = pd.to_datetime(df[\"chart_date\"])\n",
    "df[\"chart_debut_as_date\"] = pd.to_datetime(df[\"chart_debut\"])\n",
    "df[\"time_on_chart_as_date\"] = df[\"chart_date_as_date\"] - df[\"chart_debut_as_date\"]"
   ]
  },
  {
   "cell_type": "code",
   "execution_count": null,
   "metadata": {},
   "outputs": [],
   "source": [
    "df_Hot_100_Audio_Features\n",
    "value_to_find='mellow_gold'\n",
    "condition_3 = df_Hot_100_Audio_Features[df_Hot_100_Audio_Features['spotify_genre_list'].apply(lambda x: value_to_find in x)] \n",
    "condition_3 "
   ]
  },
  {
   "cell_type": "code",
   "execution_count": null,
   "metadata": {},
   "outputs": [],
   "source": [
    "#creo un diccionario para crear las columnnas del dataset de generos\n",
    "list_with_all_genres =[]\n",
    "for valor in df_Hot_100_Audio_Features.spotify_genre_list:\n",
    "    #print(type(valor))\n",
    "    if len(valor)==1:\n",
    "        if valor[0] not in list_with_all_genres:\n",
    "            list_with_all_genres.append(valor[0])\n",
    "    elif len(valor)>1:\n",
    "        i=0\n",
    "        for i in range(len(valor)):\n",
    "            if valor[i] not in list_with_all_genres:\n",
    "                list_with_all_genres.append(valor[i])\n",
    "print(f\"Longitud de todos los géneros:{len(list_with_all_genres)}\")"
   ]
  },
  {
   "cell_type": "code",
   "execution_count": null,
   "metadata": {},
   "outputs": [],
   "source": [
    "super_list_genres =[]#para la tabla\n",
    "super_dict_genres={}#para filtrar el top 50 de géneros\n",
    "#super_dict_genres_columns={}#para filtrar el top 50 de géneros\n",
    "#super_dict_genres_columns_SongID={\"SongID\":None}\n",
    "for valor in df_Hot_100_Audio_Features.spotify_genre_list:\n",
    "    if len(valor)==1:\n",
    "        if valor[0] not in super_list_genres:\n",
    "            super_list_genres.append(valor[0])\n",
    "    elif len(valor)>1:\n",
    "        i=0\n",
    "        for i in range(len(valor)):\n",
    "            if valor[i] not in super_list_genres:\n",
    "                super_list_genres.append(valor[i])\n",
    "\n",
    "for clave in super_list_genres:#inicializo el diccionario\n",
    "        super_dict_genres[clave]=0\n",
    "#        super_dict_genres_columns[clave]=False\n",
    "\n",
    "#super_dict = {**super_dict_genres_columns, **super_dict_genres_columns_SongID}\n",
    "#print(super_dict.items())\n",
    "#lista_temporal_2=list(super_dict.keys())\n",
    "#print(type(lista_temporal_2))\n",
    "super_dict_genres\n"
   ]
  },
  {
   "cell_type": "code",
   "execution_count": null,
   "metadata": {},
   "outputs": [],
   "source": [
    "for valor in df_Hot_100_Audio_Features.spotify_genre_list:#acumulo en la clave del género\n",
    "    if len(valor)==1:\n",
    "            super_dict_genres[valor[0]]=super_dict_genres[valor[0]]+1\n",
    "    elif len(valor)>1:\n",
    "        i=0\n",
    "        for i in range(len(valor)):\n",
    "            super_dict_genres[valor[i]]=super_dict_genres[valor[i]]+1\n",
    "#super_dict_genres\n",
    "top_50_entries = dict(sorted(super_dict_genres.items(), key=lambda item: item[1], reverse=True)[:50]) #50 campos porque de lo contrario eran 1384 columnas\n",
    "valor_de_corte = list(top_50_entries.values())[-1]\n",
    "valor_de_corte\n",
    "top_50_entries\n",
    "list_top_50_entries = list(top_50_entries.keys())\n",
    "list_top_50_entries"
   ]
  },
  {
   "cell_type": "code",
   "execution_count": null,
   "metadata": {},
   "outputs": [],
   "source": [
    "\n",
    "\n",
    "# Display the DataFrame\n",
    "df_genres = populate_with_mutlpile_boolean_columns(df_Hot_100_Audio_Features,list_top_50_entries)\n",
    "df_backup = df_genres.copy()\n",
    "df_genres\n"
   ]
  },
  {
   "cell_type": "code",
   "execution_count": null,
   "metadata": {},
   "outputs": [],
   "source": [
    "#innecesario si se ha cargado el CSV al principio\n",
    "#df_genres\n",
    "df_genres_modificado = df_genres.copy()\n",
    "#df_genres_modificado.to_json(\"./data/df_genres_modificado.json\",column_name=)\n",
    "# Convert DataFrame to JSON with column names included\n",
    "df_genres_modificado.to_json('./data/data_with_columns_orient_split.json', orient='split')\n",
    "#json_data = df_genres_modificado.to_dict(orient='records')\n",
    "df_genres_modificado.to_csv('./data/data_with_columns.csv',sep=\";\",index=True)\n",
    "\n",
    "# Save JSON to a file\n",
    "#with open('./data/data_with_columns_v2.json', 'w') as json_file:\n",
    "#    json_file.write(str(df_genres_modificado.columns.tolist()) + '\\n')\n",
    "#    for record in json_data:\n",
    "#        json_file.write(str(record) + '\\n')\n"
   ]
  },
  {
   "cell_type": "code",
   "execution_count": null,
   "metadata": {},
   "outputs": [],
   "source": [
    "#innecesario si se ha cargado el CSV al principio\n",
    "df_genres[[\"spotify_genre_list\",\"SongID\"]] = df_Hot_100_Audio_Features[[\"spotify_genre_list\",\"SongID\"]]\n"
   ]
  },
  {
   "cell_type": "code",
   "execution_count": null,
   "metadata": {},
   "outputs": [],
   "source": [
    "#innecesario si se ha cargado el CSV al principio\n",
    "#no funciona bien el fichero si la función\n",
    "df_genres_modificado_json = pd.read_json('./data/data_with_columns_orient_split.json', orient='split')\n"
   ]
  },
  {
   "cell_type": "code",
   "execution_count": null,
   "metadata": {},
   "outputs": [],
   "source": [
    "#innecesario si se ha cargado el CSV al principio\n",
    "# Compare the DataFrames\n",
    "comparison = df_genres_modificado.compare(df_genres_modificado_json)\n",
    "\n",
    "# Display the differences\n",
    "print(\"Differences between df_genres_modificado and df_genres_modificado_json:\")\n",
    "print(comparison)"
   ]
  },
  {
   "cell_type": "code",
   "execution_count": null,
   "metadata": {},
   "outputs": [],
   "source": [
    "#innecesario si se ha cargado el CSV al principio\n",
    "borrados_un_solo_genero=0\n",
    "borrados_multiples_generos=0\n",
    "indices_a_borrar=[]\n",
    "for indice,fila in df_genres.iterrows():\n",
    "    \n",
    "    indice_df_genres_modificado = df_genres_modificado[df_genres_modificado[\"SongID\"]==fila.SongID].index\n",
    "\n",
    "    if len(fila.spotify_genre_list)==1:\n",
    "        #print(f\"len(fila.spotify_genre_list):{len(fila.spotify_genre_list)}\")\n",
    "        if fila.spotify_genre_list[0] in df_genres_modificado:\n",
    "            #print(f\"fila.SongID:{fila.SongID} fila.spotify_genre_list[0]:{fila.spotify_genre_list[0]}\")\n",
    "            #print(f\"indice_df_genres_modificado:{indice_df_genres_modificado}\")\n",
    "            df_genres_modificado.at[indice_df_genres_modificado,fila.spotify_genre_list[0]]=True\n",
    "            #print(f\"df_genres_modificado:{df_genres_modificado[df_genres_modificado['SongID']==fila.SongID]}\")\n",
    "            #df_genres_modificado.loc[\"SongID\"==fila.SongID,fila.spotify_genre_list[0]]=True\n",
    "    #    print(f\"df_genres[df_genres['SongID']==cancion].index:{df_genres[df_genres['SongID']==fila.SongID].index}\")\n",
    "        else:\n",
    "            #borramos el registro\n",
    "            #print(f\"borro: {fila.SongID} con indice:{indice_df_genres_modificado} y este género:{fila.spotify_genre_list[0]}\")\n",
    "            #df_genres_modificado.drop(indice_df_genres_modificado,inplace=True)\n",
    "            indices_a_borrar.append(indice_df_genres_modificado)\n",
    "            borrados_un_solo_genero=borrados_un_solo_genero+1\n",
    "    else:\n",
    "        columnas_a_actualizar=[]\n",
    "        total_generos = len(fila.spotify_genre_list)\n",
    "        #contador_total_generos = 0\n",
    "        for elemento in fila.spotify_genre_list:\n",
    "            if elemento in df_genres_modificado:\n",
    "                #print(f\"fila.SongID:{fila.SongID} fila.spotify_genre_list[0]:{fila.spotify_genre_list[0]}\")\n",
    "                columnas_a_actualizar.append(elemento)\n",
    "                #print(f\"indice_df_genres_modificado:{indice_df_genres_modificado}\")\n",
    "                #print(f\"df_genres_modificado:{df_genres_modificado[df_genres_modificado['SongID']==fila.SongID]}\")\n",
    "        if len(columnas_a_actualizar)!=0:\n",
    "        #print(f\"columnas_a_actualizar:{columnas_a_actualizar}\")\n",
    "            df_genres_modificado.loc[indice_df_genres_modificado,columnas_a_actualizar]=True\n",
    "        else:\n",
    "            #print(f\"borro en el segundo bucle: {fila.SongID} con indice:{indice_df_genres_modificado} y estos géneros:{fila.spotify_genre_list}\")\n",
    "            borrados_multiples_generos=borrados_multiples_generos+1\n",
    "            #df_genres_modificado.drop(indice_df_genres_modificado,inplace=True)\n",
    "            indices_a_borrar.append(indice_df_genres_modificado)\n",
    "df_genres_modificado.drop(indices_a_borrar,inplace=True)\n",
    "print(f\"Se han borrado borrados_un_solo_genero:{borrados_un_solo_genero}\")\n",
    "print(f\"Se han borrado borrados_multiples_generos:{borrados_multiples_generos}\")"
   ]
  },
  {
   "cell_type": "code",
   "execution_count": null,
   "metadata": {},
   "outputs": [],
   "source": [
    "#estoy aquí 2024/01/07 21:21\n",
    "row_data=[]\n",
    "row_genres={}\n",
    "column_row_genres=list_top_50_entries.copy()\n",
    "for valor in column_row_genres:\n",
    "    row_genres[valor]=False\n",
    "row_genres['SongID']=\"fjdfdfdf\"\n",
    "row_genres['spotify_genre_list_no_dups']=\"fjdfd23232323fdf\"\n",
    "row_genres\n",
    "\n",
    "row_data.append(row_genres)\n",
    "prueba=pd.DataFrame(row_data)\n",
    "for index,row in df_Hot_100_Audio_Features.iterrows():\n",
    "    bln_value=False\n",
    "    row_genres={}\n",
    "    column_row_genres=list_top_50_entries.copy()\n",
    "    for valor in column_row_genres:\n",
    "        row_genres[valor]=False\n",
    "    row_genres['SongID']=row['SongID']\n",
    "    row_genres['spotify_genre_list_no_dups']=row['spotify_genre_list_no_dups']\n",
    "    for value in row['spotify_genre_list_no_dups']:\n",
    "        \n",
    "    #   print(f\"entro1 con valor {value} en SongID {row['SongID']} e index:{index_df_genres}\")\n",
    "        if value in top_50_entries.keys():\n",
    "                    row_genres[value]=True\n",
    "                    bln_value=True\n",
    "    if bln_value ==True:\n",
    "        bln_value=False\n",
    "        row_data.append(row_genres)\n",
    "\n",
    "    #      print(f\"entro2 con valor {value} en SongID {row['SongID']} e index:{index_df_genres}\")\n",
    "    #     columns=value\n",
    "        #    df_genres.at[index_df_genres,columns]=True\n",
    "    #   genre_in_top_50_entries=True       \n",
    "    #if genre_in_top_50_entries==True:\n",
    "        #df_genres.at[index_df_genres,'SongID']=row['SongID']\n",
    "        #df_genres.at[index_df_genres,'spotify_genre_list_no_dups']=row['spotify_genre_list_no_dups']\n",
    "        #genre_in_top_50_entries=False\n",
    "        #index_df_genres=index_df_genres+1\n",
    "#df_genres['SongID']=df_Hot_100_Audio_Features['SongID']\n",
    "#df_genres['spotify_genre_list_no_dups']=df_Hot_100_Audio_Features['spotify_genre_list_no_dups']\n",
    "        \n",
    "\n",
    "\n",
    "                    "
   ]
  },
  {
   "cell_type": "code",
   "execution_count": null,
   "metadata": {},
   "outputs": [],
   "source": [
    "#innecesario si se ha cargado el CSV al principio\n",
    "#df_Hot_100_Audio_Features.spotify_genre_list = df_Hot_100_Audio_Features.spotify_genre_list.replace(\" \",\"_\",inplace=True)\n",
    "df_genres_modificado.to_json('./data/df_genres_20231226_2110.json', orient='split')"
   ]
  },
  {
   "cell_type": "code",
   "execution_count": null,
   "metadata": {},
   "outputs": [],
   "source": [
    "#innecesario si se ha cargado el CSV al principio\n",
    "indices_unknown=list(df_genres_modificado.loc[df_genres_modificado[\"unknown\"]==True].index)\n",
    "df_genres_modificado.drop(indices_unknown,inplace=True)\n"
   ]
  },
  {
   "cell_type": "code",
   "execution_count": null,
   "metadata": {},
   "outputs": [],
   "source": [
    "#innecesario si se ha cargado el CSV al principio\n",
    "#df_genres_modificado.drop(columns=\"unknown\",inplace=True)\n",
    "#df_genres_modificado\n",
    "#df_genres_modificado.to_json('./data/df_genres_20231228_2104_without_column_unknown.json', orient='split')\n",
    "df_genres_modificado.to_csv('./data/df_genres_20231228_2104_without_column_unknown.csv', sep=\";\",index=True, index_label='index')\n"
   ]
  },
  {
   "cell_type": "code",
   "execution_count": null,
   "metadata": {},
   "outputs": [],
   "source": [
    "data = {\n",
    "    'Column_Name': ['A', 'B', 'A', 'C', 'B', 'A']  # Replace with your column data\n",
    "}\n",
    "\n",
    "df = pd.DataFrame(data)\n",
    "\n",
    "# Count occurrences of unique values in the column\n",
    "ocurrences = df['Column_Name'].value_counts().reset_index()\n",
    "ocurrences.columns=['Column Name','Count']\n",
    "ocurrences"
   ]
  },
  {
   "cell_type": "code",
   "execution_count": null,
   "metadata": {},
   "outputs": [],
   "source": [
    "\n",
    "df_total_counts = totals_of_a_string_column(df_Hot_100_Audio_Features,['Performer'],'Performer')\n",
    "join_df_total_counts_with_df_Hot_Stuff=pd.merge(df_total_counts,df_Hot_Stuff_with_genres,on='Performer', how='inner')\n",
    "join_df_total_counts_with_df_Hot_Stuff\n",
    "#list_of_pandas_dataset=save_totals_of_a_string_column(join_df_total_counts_with_df_Hot_Stuff,'Performer','WeekID_As_Date',date_start='1963-01-01',date_end='2023-12-31',frequency='5Y')\n"
   ]
  },
  {
   "cell_type": "code",
   "execution_count": null,
   "metadata": {},
   "outputs": [],
   "source": [
    "columns_for_filtering = list_top_50_entries.copy()\n",
    "columns_for_filtering.append(\"Performer\")\n",
    "columns_for_filtering.append(\"Song\")\n",
    "columns_for_filtering.remove(\"unknown\")\n",
    "df_top_1 = df_Hot_Stuff_with_genres[df_Hot_Stuff_with_genres[\"Week Position\"]==1][columns_for_filtering]\n",
    "df_top_1"
   ]
  },
  {
   "cell_type": "code",
   "execution_count": null,
   "metadata": {},
   "outputs": [],
   "source": [
    "unique_values = df_Hot_Stuff_with_genres['SongID'].unique()\n",
    "unique_df = pd.DataFrame(unique_values, columns=['SongID'])\n",
    "unique_df\n",
    "df=df_Hot_Stuff_with_genres[df_Hot_Stuff_with_genres['SongID']==\"......And Roses And RosesAndy Williams\"].sort_values(by='WeekID_As_Date',ascending=True).copy()\n",
    "df.reset_index(inplace=True)\n",
    "\n"
   ]
  },
  {
   "cell_type": "code",
   "execution_count": null,
   "metadata": {},
   "outputs": [],
   "source": [
    "#estoy aquí 2024/01/04 21:49\n",
    "import matplotlib.pyplot as plt\n",
    "import pandas as pd\n",
    "import numpy as np\n",
    "\n"
   ]
  },
  {
   "cell_type": "code",
   "execution_count": null,
   "metadata": {},
   "outputs": [],
   "source": [
    "df_genres_count = pd.read_csv(\"./data_genre/genre_counts_1963-1968.csv\",sep=\";\").set_index(\"index\")\n",
    "df_genres_count[\"start_date\"] = pd.to_datetime(df_genres_count[\"start_date\"])\n",
    "df_genres_count[\"end_date\"] = pd.to_datetime(df_genres_count[\"end_date\"])\n",
    "df_tipificacion_df_genres_count = pd.DataFrame([df_genres_count.nunique(), df_genres_count.nunique()/len(df_genres_count) * 100, df_genres_count.dtypes]).T.rename(columns = {0: \"Card\", 1: \"%_Card\", 2: \"Tipo\"})\n",
    "df_tipificacion_df_genres_count[\"Clasificada_como\"] = \"Categorica\" # PArtiendo de que casi todas parecen categóricas\n",
    "df_tipificacion_df_genres_count.loc[df_tipificacion_df_genres_count == 2, \"Clasificada_como\"] = \"Binaria\"\n",
    "#df_tipificacion_df_genres_count.loc[df_tipificacion_df_genres_count[\"Card\"] > 10, \"Clasificada_como\"] =\"Numerica Discreta\"\n",
    "#df_tipificacion_df_genres_count.loc[df_tipificacion_df_genres_count[\"%_Card\"] > 30, \"Clasificada_como\"] = \"Numerica Continua\"\n",
    "df_tipificacion_df_genres_count"
   ]
  },
  {
   "cell_type": "code",
   "execution_count": null,
   "metadata": {},
   "outputs": [],
   "source": [
    "\n",
    "df_genres['WeekID_As_Date']=pd.to_datetime(filtered['WeekID_As_Date'].year+\"01/01\")\n",
    "date_start=pd.to_datetime(filtered['WeekID_As_Date'].year+\"01/01\")\n",
    "date_end=pd.to_datetime(\"2028/01/01\")\n",
    "df_genres_update = df_genres.copy()\n",
    "multi_index=[]\n",
    "loop=0\n",
    "por_revisar=[]\n",
    "df_genres_update"
   ]
  },
  {
   "cell_type": "code",
   "execution_count": null,
   "metadata": {},
   "outputs": [],
   "source": [
    "lista=['spotify_genre_list_no_dups']\n",
    "column_name='Genre'\n",
    "#totals_of_a_string_column(df_Hot_100_Audio_Features,lista,'Genre')\n",
    "pandas_df_counts = df_Hot_100_Audio_Features[lista].value_counts().reset_index()\n",
    "pandas_df_counts.columns = [column_name, 'Count']"
   ]
  },
  {
   "cell_type": "code",
   "execution_count": null,
   "metadata": {},
   "outputs": [],
   "source": [
    "populate_with_mutlpile_boolean_columns(df_Hot_100_Audio_Features,list_with_all_genres)\n"
   ]
  },
  {
   "cell_type": "code",
   "execution_count": null,
   "metadata": {},
   "outputs": [],
   "source": [
    "# Assuming 'billboard_data' contains the Billboard Hot 100 dataset with genre columns\n",
    "# Create a date range from 1966 to late 2023 in 5-year intervals\n",
    "start_date = pd.to_datetime('1963-01-01')\n",
    "end_date = pd.to_datetime('2023-12-31')\n",
    "date_range = pd.date_range(start=start_date, end=end_date, freq='5Y')\n",
    "loop_init = 0\n",
    "loop_end =  0\n",
    "# Iterate through date intervals\n",
    "for i in range(len(date_range) - 1):\n",
    "    \n",
    "    start = date_range[i]\n",
    "    end = date_range[i + 1]\n",
    "    # Filter the dataset for the current interval\n",
    "    interval_data = df_Hot_Stuff_with_genres[(df_Hot_Stuff_with_genres['WeekID_As_Date'] >= start) & (df_Hot_Stuff_with_genres['WeekID_As_Date'] < end)]\n",
    "\n",
    "    # Calculate genre counts for the current interval\n",
    "    #genre_columns = interval_data.loc[:, genres]  # Adjust column names accordingly\n",
    "    genre_counts = interval_data[genres].sum().reset_index()\n",
    "    genre_counts.columns = ['Genre', 'Count']\n",
    "    str_start_date= str(start.year)+\"/01/01\"\n",
    "    str_end_date= str(end.year)+\"/12/31\"\n",
    "    genre_counts['start_date'] = pd.to_datetime(str_start_date)\n",
    "    genre_counts['end_date'] =  pd.to_datetime(str_end_date)\n",
    "    \n",
    "\n",
    "    # Save the dataset for the current interval (you can save it to a file or use as needed)\n",
    "    file_name = f\"./data_genre/genre_counts_{start.year}-{end.year}.csv\"\n",
    "    genre_counts.reset_index(inplace=True)\n",
    "    genre_counts.index.name=\"index\"\n",
    "    genre_counts.to_csv(file_name, index=False,sep=\";\")  # Save to a CSV fil"
   ]
  },
  {
   "cell_type": "code",
   "execution_count": null,
   "metadata": {},
   "outputs": [],
   "source": [
    "df_Hot_Stuff_with_genres.describe().loc[\"max\"]\n",
    "\n",
    "df_filtered=df_Hot_Stuff_with_genres[df_Hot_Stuff_with_genres[\"Performer\"].str.contains(\"Taylor Swift\")]\n",
    "df_filtered.groupby([\"Performer\",\"Song\"]).size().reset_index(name='Occurrence_Count')\n"
   ]
  },
  {
   "cell_type": "code",
   "execution_count": null,
   "metadata": {},
   "outputs": [],
   "source": [
    "#Taylor Swift\n",
    "unique_values = df_Hot_Stuff_with_genres['SongID'].unique()\n",
    "unique_df = pd.DataFrame(unique_values, columns=['SongID'])\n",
    "unique_df\n",
    "df=df_Hot_Stuff_with_genres[df_Hot_Stuff_with_genres['SongID']==\"All Too WellTaylor Swift\"].sort_values(by='WeekID_As_Date',ascending=True).copy()\n",
    "df.reset_index(inplace=True)"
   ]
  },
  {
   "cell_type": "code",
   "execution_count": null,
   "metadata": {},
   "outputs": [],
   "source": [
    "import matplotlib.pyplot as plt\n",
    "import pandas as pd\n",
    "import numpy as np\n",
    "\n",
    "# Sample DataFrame\n",
    "data = {\n",
    "    'Numeric_Variable': np.random.randint(1, 100, 100),  # Replace this with your numeric variable\n",
    "    'Categorical_Variable': np.random.choice(['A', 'B', 'C'], 100)  # Replace this with your categorical variable\n",
    "}\n",
    "\n",
    "df = pd.DataFrame(data)\n",
    "\n",
    "# Scatter plot\n",
    "plt.figure(figsize=(8, 6))\n",
    "categories = df['Categorical_Variable'].unique()\n",
    "for category in categories:\n",
    "    plt.scatter(\n",
    "        df[df['Categorical_Variable'] == category]['Numeric_Variable'],\n",
    "        df[df['Categorical_Variable'] == category].index,\n",
    "        label=category,\n",
    "        alpha=0.5\n",
    "    )\n",
    "\n",
    "plt.xlabel('Numeric Variable')\n",
    "plt.ylabel('Index or Counts')\n",
    "plt.title('Scatter plot of Numeric Variable vs Categorical Variable')\n",
    "plt.legend()"
   ]
  },
  {
   "cell_type": "code",
   "execution_count": null,
   "metadata": {},
   "outputs": [],
   "source": [
    "####\n",
    "value_to_find='mellow_gold'\n",
    "condition_1= df_Hot_Stuff_with_genres['WeekID_As_Date'] < pd.to_datetime('1968-01-01')\n",
    "condition_2= df_Hot_Stuff_with_genres['Week Position'] == 1\n",
    "condition_3= df_Hot_Stuff_with_genres[df_Hot_Stuff_with_genres['spotify_genre_list'].apply(lambda x: value_to_find in x)]            \n",
    "####"
   ]
  },
  {
   "cell_type": "code",
   "execution_count": null,
   "metadata": {},
   "outputs": [],
   "source": [
    "        for index,row in df_categorica.iterrows():\n",
    "            value_to_find=row['Genre']\n",
    "            condition_1= df_Hot_Stuff_with_genres['WeekID_As_Date'] < pd.to_datetime('1968-01-01')\n",
    "            #print(\"condition_1_total_of\",len(condition_1))\n",
    "            condition_2= df_Hot_Stuff_with_genres['Week Position'] == 1\n",
    "            #print(\"condition_2_total_of\",len(condition_2))\n",
    "            condition_3= df_Hot_Stuff_with_genres[df_Hot_Stuff_with_genres['spotify_genre_list'].apply(lambda x: value_to_find in x)]\n",
    "            #print(condition_3)\n",
    "            performer = df_Hot_Stuff_with_genres[(condition_1) & (condition_2)].copy()\n",
    "            performer.reset_index(inplace=True)\n",
    "            #print(performer.columns)\n",
    "            #print('Performer y:',performer['Performer_y'])\n",
    "            condition_3=df_Hot_100_Audio_Features[df_Hot_100_Audio_Features['spotify_genre_list'].apply(lambda x: value_to_find in x)].copy()\n",
    "           #print(\"Condition_3:\",condition_3['Performer'])\n",
    "            condition_3.rename(columns={'Performer': 'Performer_x'}, inplace=True)\n",
    "\n",
    "            df_artists_of_the_genre = pd.merge(condition_3, performer, on='Performer_x', how='right')\n",
    "            unique_values= df_artists_of_the_genre['Performer_x'].unique()\n",
    "            #print(f\"unique_values:{unique_values}\")\n",
    "            #print(\"df_artists_of_the_genre.head(5):\",df_artists_of_the_genre,type(df_artists_of_the_genre))\n",
    "            unique_df = pd.DataFrame(unique_values, columns=['Performer'])\n",
    "            unique_df = unique_df.head(5).copy()\n",
    "            #print(f\"unique_df:{unique_df}\")\n",
    "            #print(\"performer:\",len(performer))\n",
    "            #print(\"performer type:\",type(performer))\n",
    "            #performer['Performer'].nunique()\n",
    "            print(f\"{value_to_find} has this performers:\",end='')\n",
    "            loop=0\n",
    "            #print(\"columns:\",unique_df.columns)\n",
    "            for index_1, row_1 in unique_df.head(5).iterrows():\n",
    "                #print(f\"{', '.join(map(str, row_1['Performer_x']))}\")\n",
    "                if loop != 0:\n",
    "                    print(f\", {row_1['Performer']}\",end=\"\")\n",
    "                else:\n",
    "                    print(f\"{row_1['Performer']}\",end=\"\")\n",
    "                loop=+1\n",
    "            print(\"\")\n",
    "            print(\"\")\n",
    "            \n"
   ]
  },
  {
   "cell_type": "code",
   "execution_count": null,
   "metadata": {},
   "outputs": [],
   "source": [
    "for index_1, row_1 in performer.head(5).iterrows():\n",
    "                #print(f\"{', '.join(map(str, row_1['Performer_x']))}\")\n",
    "                if loop != 0:\n",
    "                    print(f\", {row_1['Performer_x']}\",end=\"\")\n",
    "                else:\n",
    "                     print(f\"{row_1['Performer_x']}\",end=\"\")\n",
    "                loop=+1"
   ]
  }
 ],
 "metadata": {
  "language_info": {
   "name": "python"
  }
 },
 "nbformat": 4,
 "nbformat_minor": 2
}
