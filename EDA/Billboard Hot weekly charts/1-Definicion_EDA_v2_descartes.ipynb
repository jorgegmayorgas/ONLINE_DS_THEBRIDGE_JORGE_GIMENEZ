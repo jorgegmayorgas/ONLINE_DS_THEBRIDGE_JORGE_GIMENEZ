{
 "cells": [
  {
   "cell_type": "code",
   "execution_count": null,
   "metadata": {},
   "outputs": [],
   "source": [
    "value_to_find='mellow_gold'\n",
    "condition_1= df_Hot_Stuff_with_genres['WeekID_As_Date'] < pd.to_datetime('1968-01-01')\n",
    "condition_2= df_Hot_Stuff_with_genres['Week Position'] == 1\n",
    "condition_3= df_Hot_Stuff_with_genres[df_Hot_Stuff_with_genres['spotify_genre_list'].apply(lambda x: value_to_find in x)]            \n"
   ]
  },
  {
   "cell_type": "code",
   "execution_count": null,
   "metadata": {},
   "outputs": [],
   "source": [
    "\n",
    "# Sample DataFrame with a column containing lists\n",
    "data = {\n",
    "    'List_Column': [[1, 'unknown', 3], [4, 5, 6], [7, 8, 9], [1, 4, 7]]\n",
    "}\n",
    "\n",
    "df = pd.DataFrame(data)\n",
    "\n",
    "# Value to filter\n",
    "desired_value = 'unknown'\n",
    "\n",
    "# Filter the DataFrame based on the list column\n",
    "filtered_df = df[df['List_Column'].apply(lambda x: desired_value in x)]\n",
    "\n",
    "print(filtered_df)"
   ]
  },
  {
   "cell_type": "code",
   "execution_count": null,
   "metadata": {},
   "outputs": [
    {
     "name": "stdout",
     "output_type": "stream",
     "text": [
      "           A          B          C\n",
      "0  example 1       test        dog\n",
      "1      apple  example 2       bird\n",
      "2     banana        cat  example 3\n"
     ]
    }
   ],
   "source": [
    "import pandas as pd\n",
    "\n",
    "# Sample DataFrame\n",
    "data = {\n",
    "    'A': ['example 1', 'apple', 'banana'],\n",
    "    'B': ['test', 'example 2', 'cat'],\n",
    "    'C': ['dog', 'bird', 'example 3']\n",
    "}\n",
    "\n",
    "df = pd.DataFrame(data)\n",
    "\n",
    "# Filter rows containing 'example' in any column\n",
    "filtered_df = df[df.map(lambda x: 'example' in str(x)).any(axis=1)]\n",
    "\n",
    "# Display the filtered DataFrame\n",
    "print(filtered_df)"
   ]
  },
  {
   "cell_type": "code",
   "execution_count": null,
   "metadata": {},
   "outputs": [],
   "source": [
    "#versión 3 sin Warnings de copy\n",
    "def actualiza_lista_multiples_valores(fila):\n",
    "    lista_funcion=[]\n",
    "    for elemento in fila['spotify_genre_list']:\n",
    "        print(f\"elemento:{elemento} longitud:{len(elemento)} y tipo:{type(elemento)}\")\n",
    "        elemento = elemento.replace(\" \",\"_\")\n",
    "        lista_temporal.append(elemento)\n",
    "        #return None\n",
    "        return lista_funcion\n",
    "\n",
    "#reemplazo los espacios en los nombres por un guión bajo para poder referenciarlos correctamente cuando sea el nombre de una columna\n",
    "for indice, fila in df_Hot_100_Audio_Features.iterrows():\n",
    "    #print(f\"indice:{indice} con valor:{valor}\")\n",
    "    #print(f\"fila:{fila.spotify_genre_list}\\tindex:{indice}\")\n",
    "    if len(fila['spotify_genre_list'])>1:\n",
    "        df_Hot_100_Audio_Features.spotify_genre_list.at[indice] = actualiza_lista_multiples_valores(fila)\n",
    "    "
   ]
  },
  {
   "cell_type": "code",
   "execution_count": null,
   "metadata": {},
   "outputs": [],
   "source": [
    "for indice,fila in df_Hot_100_Audio_Features_genres.iterrows():\n",
    "    if len(fila.spotify_genre_list)==1:\n",
    "        print(f\"fila.SongID:{fila.SongID} fila.spotify_genre_list[0]:{fila.spotify_genre_list[0]}\")\n",
    "        if fila.spotify_genre_list[0] in df_Hot_100_Audio_Features_genres:\n",
    "                df_Hot_100_Audio_Features_genres.loc[df_Hot_100_Audio_Features_genres['SongID']==fila.SongID,elemento]=True\n",
    "        else:\n",
    "                df_Hot_100_Audio_Features_genres[fila.spotify_genre_list[0]]=False\n",
    "                df_Hot_100_Audio_Features_genres[fila.spotify_genre_list[0]].at[indice]=True\n",
    "        df_Hot_100_Audio_Features_genres[fila.spotify_genre_list[0]]=False\n",
    "        #print(f\"creando columna df_Hot_100_Audio_Features_genres.at[{indice}]:{df_Hot_100_Audio_Features_genres.at[indice]}\")\n",
    "        df_Hot_100_Audio_Features_genres[fila.spotify_genre_list[0]].at[indice]=True\n",
    "        #print(f\"actualizando columna df_Hot_100_Audio_Features_genres.at[indice]:df_Hot_100_Audio_Features_genres[indice]\")\n",
    "    else:\n",
    "        print(f\"fila.SongID:{fila.SongID} fila.spotify_genre_list:{fila.spotify_genre_list}\")\n",
    "        for elemento in fila.spotify_genre_list:\n",
    "            if elemento in df_Hot_100_Audio_Features_genres:\n",
    "                print(f\"\\telemento:{elemento} fila.SongID:{fila.SongID} fila.spotify_genre_list:{fila.spotify_genre_list}\")\n",
    "                df_Hot_100_Audio_Features_genres.loc[df_Hot_100_Audio_Features_genres['SongID']==fila.SongID,elemento]=True\n",
    "            else:\n",
    "                df_Hot_100_Audio_Features_genres[elemento]=False\n",
    "                df_Hot_100_Audio_Features_genres.loc[df_Hot_100_Audio_Features_genres['SongID']==fila.SongID,elemento]=True\n",
    "        print(f\"\\t fila.SongID:{fila.SongID} df_Hot_100_Audio_Features_genres.iloc[{indice}]:{df_Hot_100_Audio_Features_genres.iloc[indice]}\")\n"
   ]
  },
  {
   "cell_type": "code",
   "execution_count": null,
   "metadata": {},
   "outputs": [],
   "source": [
    "#estoy aquí\n",
    "#df_Hot_100_Audio_Features_EDA=pd.DataFrame(columns=super_list_genres)#v1 volcaba todo\n",
    "#indices_lista.append(\"Song_ID\")\n",
    "df_Hot_100_Audio_Features_EDA=pd.DataFrame(columns=lista_temporal_2)#v3 vuelco solo los que tienen valor_de_corte entradas se quedan 50 columnas\n",
    "#df_Hot_100_Audio_Features_EDA[\"Song_ID\"] = None\n",
    "#df_Hot_100_Audio_Features_EDA=df_Hot_100_Audio_Features_EDA.T\n",
    "#df_test=df_Hot_100_Audio_Features[df_Hot_100_Audio_Features[\"spotify_genre_list\"] in indices_lista].copy()\n",
    "\n",
    "data=super_dict\n",
    "longitud=len(data)\n",
    "print(f\"longitud:{longitud}\")\n",
    "for indice,fila in df_Hot_100_Audio_Features.iterrows():\n",
    "    print(f\"cancion:{fila.SongID}\")\n",
    "    if (len(fila.spotify_genre_list)==1):\n",
    "        print(f\"entro el valor es {fila.spotify_genre_list}\")\n",
    "        #print(f\"elementos en indices_lista:{indices_lista}\")\n",
    "        if fila.spotify_genre_list[0] in indices_lista:\n",
    "            print(\"Entro al segundo if\")\n",
    "            data[fila.spotify_genre_list[0]]=True\n",
    "            data[\"SongID\"]=fila.SongID\n",
    "            print(f\"el valor de data: {data}\")\n",
    "            #df_Hot_100_Audio_Features_EDA.append(data)\n",
    "            #filtered_df = df_Hot_100_Audio_Features_EDA[df_Hot_100_Audio_Features_EDA[\"Song_ID\"]  == fila.Song_ID]\n",
    "            # Reset the index of the filtered DataFrame\n",
    "            #filtered_df = filtered_df.reset_index(drop=True)\n",
    "            # Access the index of the filtered DataFrame\n",
    "            #indices = filtered_df.index\n",
    "            #print(f\"indices:{indices}\")\n",
    "\n",
    "    else:\n",
    "            data[len(data)]=super_dict\n",
    "            data[len(data)][\"SongID\"]=fila.SongID\n",
    "            for indice in range(len(fila.spotify_genre_list)):\n",
    "                if fila.spotify_genre_list[indice] in indices_lista:\n",
    "                        data[len(data)]=super_dict\n",
    "                        data[len(data)][fila.spotify_genre_list[indice]]=True\n",
    "df_Hot_100_Audio_Features_EDA = data               \n",
    "    \n",
    "            \n",
    "                \n",
    "    \n",
    "#df_Hot_100_Audio_Features_EDA.fillna(False,inplace=True)\n",
    "#df_Hot_100_Audio_Features_EDA\n"
   ]
  },
  {
   "cell_type": "code",
   "execution_count": null,
   "metadata": {},
   "outputs": [],
   "source": [
    "import pandas as pd\n",
    "\n",
    "# Creating an array of dictionaries\n",
    "array_of_dicts = [\n",
    "    {'Name': 'Alice', 'Age': 25, 'City': 'New York'},\n",
    "    {'Name': 'Bob', 'Age': 30, 'City': 'San Francisco'},\n",
    "    {'Name': 'Charlie', 'Age': 35, 'City': 'Los Angeles'}\n",
    "]\n",
    "for indice,valores in enumerate(array_of_dicts):\n",
    "    print(indice,valores)"
   ]
  },
  {
   "cell_type": "code",
   "execution_count": null,
   "metadata": {},
   "outputs": [],
   "source": [
    "# Creating a DataFrame\n",
    "data = {\n",
    "    'Name': ['Alice', 'Bob', 'Charlie'],\n",
    "    'Age': [25, 30, 35],\n",
    "    'City': ['New York', 'San Francisco', 'Los Angeles']\n",
    "}\n",
    "\n",
    "df = pd.DataFrame(data)\n",
    "\n",
    "# Creating a subset of the DataFrame using boolean indexing\n",
    "subset = df[df['Age'] > 25]\n",
    "\n",
    "# Trying to modify the subset by adding a new column\n",
    "subset['New_Column'] = [1, 2]\n",
    "\n",
    "# Potential warning: A value is trying to be set on a copy of a slice from a DataFrame\n",
    "\n",
    "df.loc[df['Age'] > 25, 'New_Column'] = [1, 2]\n",
    "df"
   ]
  },
  {
   "cell_type": "code",
   "execution_count": null,
   "metadata": {},
   "outputs": [],
   "source": [
    "df[\"chart_date_as_date\"] = pd.to_datetime(df[\"chart_date\"])\n",
    "df[\"chart_debut_as_date\"] = pd.to_datetime(df[\"chart_debut\"])\n",
    "df[\"time_on_chart_as_date\"] = df[\"chart_date_as_date\"] - df[\"chart_debut_as_date\"]"
   ]
  },
  {
   "cell_type": "code",
   "execution_count": null,
   "metadata": {},
   "outputs": [],
   "source": [
    "df_genres_count = pd.read_csv(\"./data_genre/genre_counts_1963-1968.csv\",sep=\";\").set_index(\"index\")\n",
    "df_genres_count[\"start_date\"] = pd.to_datetime(df_genres_count[\"start_date\"])\n",
    "df_genres_count[\"end_date\"] = pd.to_datetime(df_genres_count[\"end_date\"])\n",
    "df_tipificacion_df_genres_count = pd.DataFrame([df_genres_count.nunique(), df_genres_count.nunique()/len(df_genres_count) * 100, df_genres_count.dtypes]).T.rename(columns = {0: \"Card\", 1: \"%_Card\", 2: \"Tipo\"})\n",
    "df_tipificacion_df_genres_count[\"Clasificada_como\"] = \"Categorica\" # PArtiendo de que casi todas parecen categóricas\n",
    "df_tipificacion_df_genres_count.loc[df_tipificacion_df_genres_count == 2, \"Clasificada_como\"] = \"Binaria\"\n",
    "#df_tipificacion_df_genres_count.loc[df_tipificacion_df_genres_count[\"Card\"] > 10, \"Clasificada_como\"] =\"Numerica Discreta\"\n",
    "#df_tipificacion_df_genres_count.loc[df_tipificacion_df_genres_count[\"%_Card\"] > 30, \"Clasificada_como\"] = \"Numerica Continua\"\n",
    "df_tipificacion_df_genres_count"
   ]
  },
  {
   "cell_type": "code",
   "execution_count": null,
   "metadata": {},
   "outputs": [],
   "source": [
    "import matplotlib.pyplot as plt\n",
    "import pandas as pd\n",
    "import numpy as np\n",
    "\n",
    "# Sample DataFrame\n",
    "data = {\n",
    "    'Numeric_Variable': np.random.randint(1, 100, 100),  # Replace this with your numeric variable\n",
    "    'Categorical_Variable': np.random.choice(['A', 'B', 'C'], 100)  # Replace this with your categorical variable\n",
    "}\n",
    "\n",
    "df = pd.DataFrame(data)\n",
    "\n",
    "# Scatter plot\n",
    "plt.figure(figsize=(8, 6))\n",
    "categories = df['Categorical_Variable'].unique()\n",
    "for category in categories:\n",
    "    plt.scatter(\n",
    "        df[df['Categorical_Variable'] == category]['Numeric_Variable'],\n",
    "        df[df['Categorical_Variable'] == category].index,\n",
    "        label=category,\n",
    "        alpha=0.5\n",
    "    )\n",
    "\n",
    "plt.xlabel('Numeric Variable')\n",
    "plt.ylabel('Index or Counts')\n",
    "plt.title('Scatter plot of Numeric Variable vs Categorical Variable')\n",
    "plt.legend()"
   ]
  },
  {
   "cell_type": "code",
   "execution_count": null,
   "metadata": {},
   "outputs": [],
   "source": [
    "#Taylor Swift\n",
    "unique_values = df_Hot_Stuff_with_genres['SongID'].unique()\n",
    "unique_df = pd.DataFrame(unique_values, columns=['SongID'])\n",
    "unique_df\n",
    "df=df_Hot_Stuff_with_genres[df_Hot_Stuff_with_genres['SongID']==\"All Too WellTaylor Swift\"].sort_values(by='WeekID_As_Date',ascending=True).copy()\n",
    "df.reset_index(inplace=True)"
   ]
  }
 ],
 "metadata": {
  "language_info": {
   "name": "python"
  }
 },
 "nbformat": 4,
 "nbformat_minor": 2
}
